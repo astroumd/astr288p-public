{
 "cells": [
  {
   "cell_type": "markdown",
   "metadata": {},
   "source": [
    "# Homework 3 (due May 8, at noon) - draft\n",
    "\n",
    "The final homework is due on May 8, and you will show the installation\n",
    "and a computation with your selection of a package from\n",
    "http://ascl.net (pick something you like as science, not something\n",
    "that looks easy).  There will be in in-class presentation and\n",
    "discussion on the cases. I'll weigh your final notebook with 75% and presentation\n",
    "with 25%. This homework is **due on May 8, at noon** ,\n",
    "so I can prepare the lecture while you show your results a few hours later.\n",
    "Don't pick athena (ascl:1010.014) and don't pick a code you had\n",
    "already used for your research!\n",
    "\n",
    "In case of doubt: ask me!\n",
    "\n",
    "You can work alone, or in groups of 2.\n",
    "\n",
    "Instead of browsing through the ASCL, you can also try using their [random code from ASCL](http://ascl.net/code/random) service,\n",
    "and keep on clicking on the *Another Random Code* button!  You can also use the full text search button in the top right, and\n",
    "browse through the results that way.\n",
    "\n",
    "A few suggestions (I have not verified how well they are suited):\n",
    "1. AllenTools (py)\n",
    "2. JSPAM (f,java,js)\n",
    "3. ComputePK (perhaps)\n",
    "4. slimplectic (py)\n",
    "5. Quickclump (py)\n",
    "6. gala (py)\n",
    "7. glue (py)\n",
    "\n",
    "In your discussion you should keep in mind: (*I will prepare a notebook template you can fill in*)\n",
    "1. **document everything you do!**\n",
    "1. is the documentation sufficient to select this for your project?\n",
    "1. installation instructions, do I need another compiler or tool?\n",
    "1. does it come with example files to run the code?\n",
    "1. do they give a regression test (i.e. can I verify it works)?\n",
    "1. are there other codes that do (almost) the same?\n",
    "1. once it has produced results, what can you do with those?"
   ]
  },
  {
   "cell_type": "code",
   "execution_count": null,
   "metadata": {
    "collapsed": true
   },
   "outputs": [],
   "source": []
  }
 ],
 "metadata": {
  "anaconda-cloud": {},
  "kernelspec": {
   "display_name": "Python [default]",
   "language": "python",
   "name": "python3"
  },
  "language_info": {
   "codemirror_mode": {
    "name": "ipython",
    "version": 3
   },
   "file_extension": ".py",
   "mimetype": "text/x-python",
   "name": "python",
   "nbconvert_exporter": "python",
   "pygments_lexer": "ipython3",
   "version": "3.5.2"
  }
 },
 "nbformat": 4,
 "nbformat_minor": 1
}
