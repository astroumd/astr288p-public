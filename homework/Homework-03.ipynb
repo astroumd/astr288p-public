{
 "cells": [
  {
   "cell_type": "markdown",
   "metadata": {},
   "source": [
    "# Homework 3 (due May 8, at noon) \n",
    "\n",
    "The final homework is due on May 8, and you will show the installation\n",
    "and an example computation with your selection of a package from\n",
    "http://ascl.net (pick something you like as science, not something\n",
    "that looks easy).  There will be in in-class presentation and\n",
    "discussion on the cases. I'll weigh your final notebook with 75% and presentation\n",
    "with 25%. Your presentation is 10 minutes (which includes question, so perhaps prepare 5 minutes of show and tell). The notebook however should tell the whole story. This homework is **due on May 8, at noon** ,\n",
    "so I can prepare the lecture while you show your results a few hours later.\n",
    "Don't pick athena (ascl:1010.014), unless you want to go to 2D or 3D, and don't pick a code you had already used for your research!\n",
    "\n",
    "In case of doubt: ask me!\n",
    "\n",
    "You can work alone, or in groups of 2 (each person gets the same score).\n",
    "\n",
    "Instead of browsing through the ASCL, you can also try using their fun [random code from ASCL](http://ascl.net/code/random) service,\n",
    "and keep on clicking on the *Another Random Code* button!  You can also use the full text search button in the top right, and\n",
    "browse through the results that way. For example you could search for \"python\" or \"cosmology\".....\n",
    "\n",
    "A few suggestions (I have not verified how well they are suited):\n",
    "1. AllenTools (py)\n",
    "2. JSPAM (f,java,js)\n",
    "3. ComputePK (perhaps)\n",
    "4. slimplectic (py)\n",
    "5. Quickclump (py)\n",
    "6. gala (py)\n",
    "7. glue (py)\n",
    "\n",
    "In your discussion you should keep in mind: \n",
    "1. **document everything you do!**\n",
    "1. is their documentation sufficient to select this for your project?\n",
    "1. installation instructions, do I need another compiler or tool?\n",
    "1. does it come with example files to run the code?\n",
    "1. do they give a regression test (i.e. can I verify it works)?\n",
    "1. are there other codes that do (almost) the same?\n",
    "1. once it has produced results, what can you do with those data?\n",
    "1. feel free to contact the ASCL or code author, or me, about problems"
   ]
  },
  {
   "cell_type": "markdown",
   "metadata": {},
   "source": [
    "Copy this **Homework-03** file to your home directory on ursa, so I can grab them and inspect them. Please keep the original filename."
   ]
  },
  {
   "cell_type": "markdown",
   "metadata": {},
   "source": [
    "# Summary of ASCL [1010.014](http://ascl.net/1010.014) * <--- fill in your code*"
   ]
  },
  {
   "cell_type": "markdown",
   "metadata": {},
   "source": [
    "### 1. is the documentation sufficient to select this for your project?\n",
    "\n",
    "..."
   ]
  },
  {
   "cell_type": "markdown",
   "metadata": {},
   "source": [
    "### 2. installation instructions, do I need another compiler or tool or python module?\n",
    "\n",
    "..."
   ]
  },
  {
   "cell_type": "markdown",
   "metadata": {},
   "source": [
    "### 3. does it come with example files to run the code?\n",
    "\n",
    "..."
   ]
  },
  {
   "cell_type": "markdown",
   "metadata": {},
   "source": [
    "### 4. do they give a regression test (i.e. can I verify it works)?\n",
    "\n",
    "..."
   ]
  },
  {
   "cell_type": "markdown",
   "metadata": {},
   "source": [
    "### 5. are there other codes that do (almost) the same?\n",
    "\n",
    "..."
   ]
  },
  {
   "cell_type": "markdown",
   "metadata": {
    "collapsed": true
   },
   "source": [
    "### 6. once it has produced results, what can you do with those?\n",
    "\n",
    "..."
   ]
  },
  {
   "cell_type": "markdown",
   "metadata": {},
   "source": [
    "### 7. did you need to contact the ASCL or code author?\n",
    "\n",
    "..."
   ]
  },
  {
   "cell_type": "markdown",
   "metadata": {},
   "source": [
    "# Your Notebook Below\n",
    "\n",
    "Codes not in python will obviously be much harder to explain in a notebook. That should not stop you from using a non-python code. In those cases use some Markdown cells to document your work, so I can in principle reproduce your results. You are allowed to create some png files and include those. See the example in the **orbits-03** notebook [here](../notebooks/orbits-03.ipynb). In that case I would suggest you name your png files (or any supporting files) after your username on ursa. For example \"teuben01.png\", \"teuben02.tab\", \"teuben03.fits\", ...."
   ]
  },
  {
   "cell_type": "code",
   "execution_count": null,
   "metadata": {
    "collapsed": true
   },
   "outputs": [],
   "source": []
  }
 ],
 "metadata": {
  "anaconda-cloud": {},
  "kernelspec": {
   "display_name": "Python [default]",
   "language": "python",
   "name": "python3"
  },
  "language_info": {
   "codemirror_mode": {
    "name": "ipython",
    "version": 3
   },
   "file_extension": ".py",
   "mimetype": "text/x-python",
   "name": "python",
   "nbconvert_exporter": "python",
   "pygments_lexer": "ipython3",
   "version": "3.5.2"
  }
 },
 "nbformat": 4,
 "nbformat_minor": 1
}
