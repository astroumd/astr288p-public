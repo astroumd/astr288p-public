{
 "cells": [
  {
   "cell_type": "markdown",
   "metadata": {},
   "source": [
    "# Homework 1 (due March 6)\n",
    "\n",
    "Finish this homework in the appropriate cells, and copy this file to your home directory on ursa, so I can grab them and inspect them. Please keep the original filename."
   ]
  },
  {
   "cell_type": "markdown",
   "metadata": {},
   "source": [
    "## Q1. \n",
    "Create a new file called \"hello.py\" with just one python statement that prints \"hello\" to the screen. Test that it works with the command\n",
    "```\n",
    "    python hello.py\n",
    "```\n",
    "Now we want to promote this script to become a true unix command, so we\n",
    "want to just type in a unix terminal\n",
    "```\n",
    "      hello.py\n",
    "```\n",
    "and get the same \"hello\" printed to the screen.   \n",
    "\n",
    "Try this out, but what errors can you think of (and maybe you got) when you worked this out, and explain your results.\n",
    "\n",
    "**Hint**:  I was able to get 4 types of errors at different stages of getting this to work."
   ]
  },
  {
   "cell_type": "markdown",
   "metadata": {},
   "source": [
    "## A1.\n"
   ]
  },
  {
   "cell_type": "markdown",
   "metadata": {},
   "source": [
    "## Q2.\n",
    "\n",
    "Assign an integer value to **n**. Write a snippet of code that computes the sum of all even numbers up to and including **n**. Test this for a few small values of **n**, even and odd. Print out the sum for n=999 and n=1000. What happened if you set **n** to be a negative number.\n",
    "\n",
    "You can use any method you like: Functions, For loops., Numpy arrays, Python lists, just to name a few."
   ]
  },
  {
   "cell_type": "code",
   "execution_count": 8,
   "metadata": {
    "collapsed": false
   },
   "outputs": [],
   "source": [
    "# A2.\n"
   ]
  },
  {
   "cell_type": "markdown",
   "metadata": {
    "collapsed": true
   },
   "source": [
    "# Q3.\n",
    "\n",
    "Why does python not have the switch/case control flow statement like one has in C and Java?\n"
   ]
  },
  {
   "cell_type": "markdown",
   "metadata": {},
   "source": [
    "# A3."
   ]
  },
  {
   "cell_type": "code",
   "execution_count": null,
   "metadata": {
    "collapsed": true
   },
   "outputs": [],
   "source": []
  }
 ],
 "metadata": {
  "anaconda-cloud": {},
  "kernelspec": {
   "display_name": "Python [default]",
   "language": "python",
   "name": "python3"
  },
  "language_info": {
   "codemirror_mode": {
    "name": "ipython",
    "version": 3
   },
   "file_extension": ".py",
   "mimetype": "text/x-python",
   "name": "python",
   "nbconvert_exporter": "python",
   "pygments_lexer": "ipython3",
   "version": "3.5.2"
  }
 },
 "nbformat": 4,
 "nbformat_minor": 1
}
