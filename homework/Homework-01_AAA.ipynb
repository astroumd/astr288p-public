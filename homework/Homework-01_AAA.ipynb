{
 "cells": [
  {
   "cell_type": "markdown",
   "metadata": {},
   "source": [
    "# Homework 1 (due March 6)\n",
    "\n",
    "Finish this homework in the appropriate cells, and copy this file to your home directory on ursa, so I can grab them and inspect them. Please keep the original filename."
   ]
  },
  {
   "cell_type": "markdown",
   "metadata": {},
   "source": [
    "## Q1. \n",
    "Create a new file called \"hello.py\" with just one python statement that prints \"hello\" to the screen. Test that it works with the command\n",
    "```\n",
    "    python hello.py\n",
    "```\n",
    "Now we want to promote this script to become a true unix command, so we\n",
    "want to just type in a unix terminal\n",
    "```\n",
    "      hello.py\n",
    "```\n",
    "and get the same \"hello\" printed to the screen.   \n",
    "\n",
    "Try this out, but what errors can you think of (and maybe you got) when you worked this out, and explain your results.\n",
    "\n",
    "**Hint**:  I was able to get 4 types of errors at different stages of getting this to work."
   ]
  },
  {
   "cell_type": "markdown",
   "metadata": {},
   "source": [
    "## A1.\n",
    "\n",
    "Starting with a one liner text file:\n",
    "```\n",
    "   echo \"print('hello')\" > hello.py\n",
    "```\n",
    "\n",
    "I was able to get the following types or errors, in the following order of events while trying to fix them:\n",
    "\n",
    "1) \"hello.py: Command not found.\"\n",
    "\n",
    "   . (the current directory) is not in the path.  Fix this with \"export PATH=.:$PATH\" in bash, or \"setenv PATH .:$PATH\" in csh. After fixing this, I got:\n",
    "\n",
    "2) \"hello.py: Permission denied.\"\n",
    "\n",
    "   forgot \"chmod +x hello.py\" to make the script executable. After this I got:\n",
    "\n",
    "3) \"Unescaped left brace in regex is deprecated,  ....\"\n",
    "\n",
    "   There is no proper #!, and it then assumes bash (or /bin/sh), so we need to teach it that this is a python script. After trying that, I got this:\n",
    "\n",
    "4) \"hello.py: Command not found.\"\n",
    "\n",
    "   you might not get this, but this is not a repeat of 1), it's when you give the path\n",
    "   of the #! wrong, e.g.  #!/bin/python, since it's #!/usr/bin/python. You can also make it #!/usr/bin/env python\"\n",
    "\n"
   ]
  },
  {
   "cell_type": "markdown",
   "metadata": {},
   "source": [
    "## Q2.\n",
    "\n",
    "Assign an integer value to **n**. Write a snippet of code that computes the sum of all even numbers up to and including **n**. Test this for a few small values of **n**, even and odd. Print out the sum for n=999 and n=1000. What happened if you set **n** to be a negative number.\n",
    "\n",
    "You can use any method you like: Functions, For loops., Numpy arrays, Python lists, just to name a few."
   ]
  },
  {
   "cell_type": "code",
   "execution_count": 1,
   "metadata": {
    "collapsed": false
   },
   "outputs": [
    {
     "name": "stdout",
     "output_type": "stream",
     "text": [
      "test for 3,4: 2 6 straight sum, for-loop with if\n",
      "test for 3,4: 2 6 only half the array, more efficient\n",
      "test for 3,4: 2 6 full range, but stepping in two\n",
      "test for 3,4: 2 6 using sum2 method and numpy.sum is fast\n",
      "test for 3,4: 2 6 looping in numpy is also slow\n",
      "999 249500\n",
      "1000 250500\n",
      "CPU times: user 168 ms, sys: 0 ns, total: 168 ms\n",
      "Wall time: 167 ms\n",
      "CPU times: user 56 ms, sys: 0 ns, total: 56 ms\n",
      "Wall time: 57 ms\n",
      "CPU times: user 44 ms, sys: 0 ns, total: 44 ms\n",
      "Wall time: 41.9 ms\n",
      "CPU times: user 0 ns, sys: 0 ns, total: 0 ns\n",
      "Wall time: 2.15 ms\n",
      "CPU times: user 76 ms, sys: 0 ns, total: 76 ms\n",
      "Wall time: 79.1 ms\n",
      "250000500000 250000500000 250000500000 250000500000 250000500000\n"
     ]
    }
   ],
   "source": [
    "# A2.\n",
    "import numpy as np\n",
    "\n",
    "def sum1(n):\n",
    "    \"\"\"straight sum, for-loop with if\"\"\"\n",
    "    sum = 0\n",
    "    for i in range(n+1):\n",
    "        if i%2 == 0:             # only add even numbers\n",
    "            sum += i\n",
    "    return sum\n",
    "\n",
    "def sum2(n):\n",
    "    \"\"\"only half the array, more efficient\"\"\"\n",
    "    sum = 0\n",
    "    n2 = n//2                # the choice of n2\n",
    "    for i in range(n2+1):    # and n2+1 requires thought\n",
    "        sum += i\n",
    "    sum *= 2\n",
    "    return sum\n",
    "\n",
    "def sum3(n):\n",
    "    \"\"\"full range, but stepping in two\"\"\"\n",
    "    sum = 0\n",
    "    for i in range(0,n+1,2):\n",
    "        sum += i\n",
    "    return sum\n",
    "\n",
    "def sum4(n):\n",
    "    \"\"\"using sum2 method and numpy.sum is fast\"\"\"\n",
    "    n2 = n//2\n",
    "    a = np.arange(n2+1)\n",
    "    return 2*a.sum()\n",
    "\n",
    "def sum5(n):\n",
    "    \"\"\"looping in numpy is also slow\"\"\"\n",
    "    sum = 0\n",
    "    n2 = n//2\n",
    "    for i in np.arange(n2+1):\n",
    "        sum += i\n",
    "    sum *= 2\n",
    "    return sum\n",
    "\n",
    "# for cases n=3 and n=4 we know the answer (2 and 6 resp.)\n",
    "for s in [sum1,sum2,sum3,sum4,sum5]:\n",
    "    print(\"test for 3,4: %d %d %s\" % (s(2),s(4),s.__doc__))\n",
    "\n",
    "# the required numbers for the homework\n",
    "print(\"%d %d\" % (999,sum1(999)))\n",
    "print(\"%d %d\" % (1000,sum1(1000)))\n",
    "\n",
    "# and what the heck, give it a big number and see how they all perform\n",
    "n = 1000000\n",
    "%time s1=sum1(n)\n",
    "%time s2=sum2(n)\n",
    "%time s3=sum3(n)\n",
    "%time s4=sum4(n)\n",
    "%time s5=sum5(n)\n",
    "\n",
    "# they better all be the same still\n",
    "print(s1,s2,s3,s4,s5)\n",
    "    "
   ]
  },
  {
   "cell_type": "markdown",
   "metadata": {},
   "source": [
    "# Discussion\n",
    "\n",
    "For n=1000000 I obtained timings of around 160ms, 40ms, 40ms, 1ms and 80ms resp. (in CPU, not Wall clock time).  If you repeat these for smaller values of **n** you might see a 0 \"CPU times\" (too fast to measure), but because interfaces to ipython are slow, you will see varying degrees of time it takes to finish (Wall time)\n",
    "\n",
    "Clearly shortening the loop and thus removing the if-statement in **sum1** helped a lot, but we are looping in python, which is slow.\n",
    "\n",
    "Converting to numpy however means that memory has to be sacrificed in an array (**a**) over which then can be summed really fast."
   ]
  },
  {
   "cell_type": "markdown",
   "metadata": {
    "collapsed": true
   },
   "source": [
    "# Q3.\n",
    "\n",
    "Why does python not have the switch/case control flow statement like one has in C and Java?\n",
    "\n",
    "If you use an online resource, give a reference. \n"
   ]
  },
  {
   "cell_type": "markdown",
   "metadata": {},
   "source": [
    "# A3.\n",
    "\n",
    "First an example in python how it would look if it followed C:\n",
    "```\n",
    "   switch n:\n",
    "      case 1:\n",
    "         print(\"n=1\")\n",
    "         # break\n",
    "      case 2:\n",
    "         print(\"n=2\")\n",
    "         # break\n",
    "      case 3:\n",
    "         print(\"n=3\")\n",
    "         # break\n",
    "      default:\n",
    "         print(\"something else\")       \n",
    "```\n",
    "however in C you would need an additional **break** before the next **case** if you did not want to follow through the next **case**. This gives for interesting flow patterns!\n",
    "\n",
    "\n",
    "Apart from this odd ambiguity, if a **break** would be needed, you can also solve this with a series of **if/elif/elif/.../else**:\n",
    "```\n",
    "    if n==1:\n",
    "        print(\"n=1\")\n",
    "    elif n==2:\n",
    "        print(\"n=2\")\n",
    "    elif n==3:\n",
    "        print(\"n=3\")\n",
    "    else:\n",
    "        print(\"something else\")\n",
    "        \n",
    "```\n",
    "\n",
    "\n",
    "If you google, you will find some discussions and functional replacements using a python dictionary. But these are limited to the cases where multiple statements in each case can be replaced with a single function call.\n",
    "\n",
    "The python language is evolved using PEP (Python Enhanced Proposal). Check out this one: \n",
    "https://www.python.org/dev/peps/pep-3103/ where it was rejected to be part of the language, way back in 2006! Guido van Rossum has a nickname of the Benevolent Dictator For Life (BDFL).\n",
    "\n"
   ]
  },
  {
   "cell_type": "markdown",
   "metadata": {},
   "source": [
    "# Q4.\n",
    "\n",
    "For the following experiment we want to plot the performance difference between adding up the elements in a list vs. numpy array, as function of the size of the list/array. Much like in the **03-arrays** time your list and numpy cell for a number of values of n (you may need to go up to n=1,000,000 or even higher).\n",
    "\n",
    "Put your numbers in a hardcoded list in **A3c**. You will need to rerun the **A3a** and **A3b** cells a number of times.\n",
    "\n",
    "Plot your results in a log-log plot. What is a nicer plot, N vs. CPU or N vs. CPU/N?"
   ]
  },
  {
   "cell_type": "markdown",
   "metadata": {},
   "source": [
    "# A4.\n",
    "\n",
    "Below we will first set up a cell with some definitions, and try out a few loops to get an idea how to accumulate the numbers for the graph most efficiently without bringing the machine to a grinding halt.\n"
   ]
  },
  {
   "cell_type": "code",
   "execution_count": 2,
   "metadata": {
    "collapsed": false
   },
   "outputs": [
    {
     "name": "stdout",
     "output_type": "stream",
     "text": [
      "Done for n= 5000000\n"
     ]
    }
   ],
   "source": [
    "#  this cell sets up variables and functions, so we don't need to\n",
    "#  time these. initializing arrays will take time too, but we're not \n",
    "#  interested in these either.\n",
    "import numpy as np\n",
    "\n",
    "%matplotlib inline\n",
    "import matplotlib.pyplot as plt\n",
    "\n",
    "n = 5000000\n",
    "mode = 1\n",
    "\n",
    "if mode == 0:\n",
    "    # simple sequence\n",
    "    a1 = np.arange(n)\n",
    "    a2 = np.arange(n * 1.0) \n",
    "    a3 = list(range(n))\n",
    "    a4 = a2.tolist()\n",
    "else:\n",
    "    # random numbers between 0 and 100 (more expensive)\n",
    "    np.random.seed(123)\n",
    "    a2 = np.random.uniform(0.0,100.0,n)\n",
    "    a1 = a2.astype(np.int64)\n",
    "    a3 = a1.tolist()\n",
    "    a4 = a2.tolist()\n",
    "    \n",
    "def geta(n, seed=None):\n",
    "    \"\"\"return random numpy array [0,100], optional seed\"\"\"\n",
    "    if seed != None:\n",
    "        np.random.seed(seed)\n",
    "    a = np.random.uniform(0.0,100.0,n)\n",
    "    return a\n",
    "\n",
    "def sum0(a):\n",
    "    \"\"\"the native sum that python lists support\"\"\"\n",
    "    return sum(a)\n",
    "\n",
    "def sum1(a):\n",
    "    \"\"\"loop over array elements and sum them\"\"\"\n",
    "    sum = 0\n",
    "    for x in a:\n",
    "        sum += x\n",
    "    return sum\n",
    "\n",
    "def sum2(a):\n",
    "    \"\"\"loop over array using indices\"\"\"\n",
    "    sum = 0\n",
    "    for i in range(len(a)):\n",
    "        sum += a[i]\n",
    "    return sum\n",
    "\n",
    "def sum3(a):\n",
    "    \"\"\"native and fast numpy sum\"\"\"\n",
    "    return a.sum()\n",
    "\n",
    "if n == 10:\n",
    "    # debugregression test\n",
    "    print(\"n=%d mode=%d\" % (n,mode))\n",
    "    print(type(a1),type(a2),type(a3),type(a4))\n",
    "    print(type(a1[0]),type(a2[0]),type(a3[0]),type(a4[0]))\n",
    "    if mode==0: print(\"Should all print 45 or 45.0\")\n",
    "    for a in [a1,a2,a3,a4]:\n",
    "        print(sum1(a))\n",
    "        print(sum2(a))\n",
    "    for a in [a1,a2]:\n",
    "        print(sum3(a))\n",
    "else:\n",
    "    print(\"Done for n=\",n)"
   ]
  },
  {
   "cell_type": "code",
   "execution_count": 3,
   "metadata": {
    "collapsed": false
   },
   "outputs": [
    {
     "name": "stdout",
     "output_type": "stream",
     "text": [
      "5000000\n",
      "  numpy int\n",
      "CPU times: user 608 ms, sys: 0 ns, total: 608 ms\n",
      "Wall time: 604 ms\n",
      "CPU times: user 776 ms, sys: 0 ns, total: 776 ms\n",
      "Wall time: 776 ms\n",
      "CPU times: user 996 ms, sys: 0 ns, total: 996 ms\n",
      "Wall time: 994 ms\n",
      "CPU times: user 4 ms, sys: 0 ns, total: 4 ms\n",
      "Wall time: 3.22 ms\n",
      "  numpy float\n",
      "CPU times: user 588 ms, sys: 0 ns, total: 588 ms\n",
      "Wall time: 584 ms\n",
      "CPU times: user 804 ms, sys: 0 ns, total: 804 ms\n",
      "Wall time: 803 ms\n",
      "CPU times: user 1.01 s, sys: 0 ns, total: 1.01 s\n",
      "Wall time: 1.01 s\n",
      "CPU times: user 4 ms, sys: 0 ns, total: 4 ms\n",
      "Wall time: 3.03 ms\n",
      "  list int\n",
      "CPU times: user 52 ms, sys: 0 ns, total: 52 ms\n",
      "Wall time: 51.8 ms\n",
      "CPU times: user 256 ms, sys: 0 ns, total: 256 ms\n",
      "Wall time: 258 ms\n",
      "CPU times: user 568 ms, sys: 0 ns, total: 568 ms\n",
      "Wall time: 567 ms\n",
      "  list float\n",
      "CPU times: user 28 ms, sys: 0 ns, total: 28 ms\n",
      "Wall time: 29.8 ms\n",
      "CPU times: user 228 ms, sys: 0 ns, total: 228 ms\n",
      "Wall time: 226 ms\n",
      "CPU times: user 432 ms, sys: 0 ns, total: 432 ms\n",
      "Wall time: 432 ms\n"
     ]
    }
   ],
   "source": [
    "# comparing various methods (in the end we'll just pick sum1 and sum3)\n",
    "print(n)\n",
    "print(\"  numpy int\")\n",
    "%time s01 = sum0(a1)\n",
    "%time s11 = sum1(a1)\n",
    "%time s21 = sum2(a1)\n",
    "%time s31 = sum3(a1)\n",
    "print(\"  numpy float\")\n",
    "%time s02 = sum0(a2)\n",
    "%time s12 = sum1(a2)\n",
    "%time s22 = sum2(a2)\n",
    "%time s32 = sum3(a2)\n",
    "print(\"  list int\")\n",
    "%time s03 = sum0(a3)\n",
    "%time s13 = sum1(a3)\n",
    "%time s23 = sum2(a3)\n",
    "print(\"  list float\")\n",
    "%time s04 = sum0(a4)\n",
    "%time s14 = sum1(a4)\n",
    "%time s24 = sum2(a4)"
   ]
  },
  {
   "cell_type": "markdown",
   "metadata": {},
   "source": [
    "This first analysis shows us that for numpy arrays there isn't much difference between sum0 and sum1 (~20-30%), but the native sum3 is much much faster. But for python lists sum0 is a lot faster than sum1 (factor 5-6). Since most numerical work is numpy floating point, we will do the comparison below between sum1 and sum3 for the **a2** array."
   ]
  },
  {
   "cell_type": "code",
   "execution_count": 4,
   "metadata": {
    "collapsed": false
   },
   "outputs": [
    {
     "name": "stdout",
     "output_type": "stream",
     "text": [
      "10000\n",
      "CPU times: user 0 ns, sys: 0 ns, total: 0 ns\n",
      "Wall time: 289 µs\n",
      "CPU times: user 0 ns, sys: 0 ns, total: 0 ns\n",
      "Wall time: 1.72 ms\n",
      "100000\n",
      "CPU times: user 0 ns, sys: 0 ns, total: 0 ns\n",
      "Wall time: 2.25 ms\n",
      "CPU times: user 16 ms, sys: 0 ns, total: 16 ms\n",
      "Wall time: 15.6 ms\n",
      "1000000\n",
      "CPU times: user 4 ms, sys: 8 ms, total: 12 ms\n",
      "Wall time: 15.2 ms\n",
      "CPU times: user 148 ms, sys: 0 ns, total: 148 ms\n",
      "Wall time: 149 ms\n",
      "10000000\n",
      "CPU times: user 148 ms, sys: 8 ms, total: 156 ms\n",
      "Wall time: 153 ms\n",
      "CPU times: user 1.5 s, sys: 0 ns, total: 1.5 s\n",
      "Wall time: 1.49 s\n",
      "20000000\n",
      "CPU times: user 308 ms, sys: 8 ms, total: 316 ms\n",
      "Wall time: 313 ms\n",
      "CPU times: user 2.88 s, sys: 0 ns, total: 2.88 s\n",
      "Wall time: 2.88 s\n",
      "40000000\n",
      "CPU times: user 548 ms, sys: 16 ms, total: 564 ms\n",
      "Wall time: 563 ms\n",
      "CPU times: user 5.82 s, sys: 0 ns, total: 5.82 s\n",
      "Wall time: 5.82 s\n"
     ]
    }
   ],
   "source": [
    "# A3a.  time the python list\n",
    "n1 = [10000, 100000, 1000000, 10000000, 20000000, 40000000]\n",
    "for n in n1:\n",
    "    print(n)\n",
    "    %time a = geta(n)      # ignore these timings \n",
    "    %time s = sum1(a)\n",
    "    del(a)\n",
    "c1  = [4e-3, 28e-3, 148e-3, 1.51,   2.86, 5.9]\n",
    "c1i = [1e-3,  4e-3,  12e-3, 744e-3, 2.45, 1.12]"
   ]
  },
  {
   "cell_type": "code",
   "execution_count": 5,
   "metadata": {
    "collapsed": false
   },
   "outputs": [
    {
     "name": "stdout",
     "output_type": "stream",
     "text": [
      "10000000\n",
      "CPU times: user 140 ms, sys: 4 ms, total: 144 ms\n",
      "Wall time: 143 ms\n",
      "CPU times: user 4 ms, sys: 0 ns, total: 4 ms\n",
      "Wall time: 5.06 ms\n",
      "40000000\n",
      "CPU times: user 520 ms, sys: 64 ms, total: 584 ms\n",
      "Wall time: 580 ms\n",
      "CPU times: user 20 ms, sys: 0 ns, total: 20 ms\n",
      "Wall time: 22.1 ms\n",
      "100000000\n",
      "CPU times: user 1.45 s, sys: 1.73 s, total: 3.18 s\n",
      "Wall time: 3.18 s\n",
      "CPU times: user 64 ms, sys: 0 ns, total: 64 ms\n",
      "Wall time: 65.1 ms\n",
      "200000000\n",
      "CPU times: user 2.82 s, sys: 4.03 s, total: 6.85 s\n",
      "Wall time: 6.85 s\n",
      "CPU times: user 116 ms, sys: 0 ns, total: 116 ms\n",
      "Wall time: 115 ms\n",
      "300000000\n",
      "CPU times: user 4.49 s, sys: 6.4 s, total: 10.9 s\n",
      "Wall time: 10.9 s\n",
      "CPU times: user 184 ms, sys: 0 ns, total: 184 ms\n",
      "Wall time: 183 ms\n",
      "500000000\n",
      "CPU times: user 7.88 s, sys: 6.28 s, total: 14.2 s\n",
      "Wall time: 14.8 s\n",
      "CPU times: user 296 ms, sys: 48 ms, total: 344 ms\n",
      "Wall time: 348 ms\n",
      "6 6\n"
     ]
    }
   ],
   "source": [
    "# A3b.  time the numpy array\n",
    "n2 = [  10000000, 40000000, 100000000, 200000000, 300000000, 500000000]\n",
    "for n in n2:\n",
    "    print(n)\n",
    "    %time a = geta(n)     # ignore these timings\n",
    "    %time s=sum3(a)\n",
    "    del(a)\n",
    "c2  = [4e-3, 20e-3, 52e-3, 116e-3, 172e-3, 268e-3]\n",
    "c2i = [0.2,    0.9,   3.0,   4.46,   7.11,  14.5]\n",
    "print(len(n2),len(c2))"
   ]
  },
  {
   "cell_type": "code",
   "execution_count": 6,
   "metadata": {
    "collapsed": false
   },
   "outputs": [
    {
     "data": {
      "image/png": "[encoded data removed]",
      "text/plain": [
       "<matplotlib.figure.Figure at 0x7fd7bfb6d278>"
      ]
     },
     "metadata": {},
     "output_type": "display_data"
    },
    {
     "data": {
      "image/png": "[encoded data removed]",
      "text/plain": [
       "<matplotlib.figure.Figure at 0x7fd7a4fa3828>"
      ]
     },
     "metadata": {},
     "output_type": "display_data"
    }
   ],
   "source": [
    "# A3c.  plot the results]\n",
    "\n",
    "# repeating the arrays we obtained in A3a and A3b:\n",
    "\n",
    "n1 = [10000, 100000, 1000000, 10000000, 20000000, 40000000]\n",
    "c1 = [4e-3, 28e-3, 148e-3, 1.51, 2.86, 5.9]\n",
    "c1i = [1e-3, 4e-3, 12e-3, 744e-3, 2.45, 1.12]\n",
    "\n",
    "n2 = [  10000000, 40000000, 100000000, 200000000, 300000000, 500000000]\n",
    "c2 = [4e-3, 20e-3, 52e-3, 116e-3, 172e-3, 268e-3]\n",
    "c2i = [0.2, 0.9,    3.0,   4.46,   7.11,  14.5]\n",
    "\n",
    "x1=np.array(n1)\n",
    "y1=np.array(c1)\n",
    "y1i=np.array(c1i)\n",
    "z1=y1/x1\n",
    "z1i=y1i/x1\n",
    "x2=np.array(n2)\n",
    "y2=np.array(c2)\n",
    "y2i=np.array(c2i)\n",
    "z2=y2/x2\n",
    "z2i=y2i/x2\n",
    "\n",
    "plt.figure()\n",
    "plt.plot(x1,y1,'+-',label='sum +=')\n",
    "plt.plot(x2,y2,'+-',label='np.sum')\n",
    "plt.scatter([x1,x2],[y1i,y2i],label='geta()')\n",
    "plt.xscale('log')\n",
    "plt.yscale('log')\n",
    "plt.xlabel('N')\n",
    "plt.ylabel('CPU')\n",
    "plt.legend(loc='upper left')\n",
    "plt.show()\n",
    "\n",
    "plt.figure()\n",
    "plt.plot(x1,z1,'r-',label='sum +=')\n",
    "plt.plot(x2,z2,'b-',label='np.sum')\n",
    "plt.scatter([x1,x2],[z1i,z2i],label='geta()')\n",
    "plt.xscale('log')\n",
    "plt.yscale('log')\n",
    "plt.xlabel('N')\n",
    "plt.ylabel('CPU/N')\n",
    "plt.legend(loc='best')\n",
    "plt.show()"
   ]
  }
 ],
 "metadata": {
  "anaconda-cloud": {},
  "kernelspec": {
   "display_name": "Python [default]",
   "language": "python",
   "name": "python3"
  },
  "language_info": {
   "codemirror_mode": {
    "name": "ipython",
    "version": 3
   },
   "file_extension": ".py",
   "mimetype": "text/x-python",
   "name": "python",
   "nbconvert_exporter": "python",
   "pygments_lexer": "ipython3",
   "version": "3.5.2"
  }
 },
 "nbformat": 4,
 "nbformat_minor": 1
}
