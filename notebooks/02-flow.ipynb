{
 "cells": [
  {
   "cell_type": "markdown",
   "metadata": {},
   "source": [
    "# Python Control Flow\n",
    "\n",
    "1. if/then/else\n",
    "1. for-loop/else    \n",
    "1. while-loop/else\n",
    "1. functions\n",
    "1. class (?)\n"
   ]
  },
  {
   "cell_type": "markdown",
   "metadata": {},
   "source": [
    "## 1. if/then/else\n",
    "\n",
    "Note there is no \"```else if```\" or need to indent this, python uses \"```elif```\". Again, note the indentation controls the flow."
   ]
  },
  {
   "cell_type": "code",
   "execution_count": null,
   "metadata": {
    "collapsed": false
   },
   "outputs": [],
   "source": [
    "a = 1.0\n",
    "if a == 0.0:\n",
    "    print('zero')\n",
    "elif a > 10.0 or a < -10:\n",
    "    print(\"too big\")\n",
    "else:\n",
    "    print(\"close enough\")"
   ]
  },
  {
   "cell_type": "markdown",
   "metadata": {},
   "source": [
    "Things to try :\n",
    "* seting a=0.001  0.00001   etc.   or try   1e-10  1e-50  1e-100   (when is it really zero in python?)\n",
    "* a = 100\n",
    "* a = -5"
   ]
  },
  {
   "cell_type": "markdown",
   "metadata": {},
   "source": [
    "## 2. for-loop\n",
    "\n",
    "The for-loop in python runs over an iterator, for example a python list is the most common one to use.\n",
    "\n",
    "In python one is also allowed to add an **else** clause, often overlooked!"
   ]
  },
  {
   "cell_type": "code",
   "execution_count": null,
   "metadata": {
    "collapsed": false
   },
   "outputs": [],
   "source": [
    "for i in [1,3,-1,10,100,0]:\n",
    "#for i in range(1,10,2):\n",
    "    if i<0: \n",
    "        continue\n",
    "    if i>10:\n",
    "        print(\"break\")\n",
    "        break\n",
    "    if i<3:\n",
    "        pass\n",
    "        print(\"pass\")\n",
    "    print(i)\n",
    "else:\n",
    "    print(\"only if there is no break\")"
   ]
  },
  {
   "cell_type": "markdown",
   "metadata": {},
   "source": [
    "Things to try:\n",
    "* i>100   and notice the differences\n",
    "\n",
    "The above mentioned for-loop can be compacted in python (not recommmended, as your readability goes down the drain):\n"
   ]
  },
  {
   "cell_type": "code",
   "execution_count": null,
   "metadata": {
    "collapsed": false
   },
   "outputs": [],
   "source": [
    "for i in [1,3,-1,10,100,0]:\n",
    "    if i<0:  continue\n",
    "    if i>10: print(\"break\"); break\n",
    "    if i<3:  pass; print(\"pass\")\n",
    "    print(i)\n",
    "else:\n",
    "    print(\"only if there is no break\")"
   ]
  },
  {
   "cell_type": "markdown",
   "metadata": {},
   "source": [
    "## 3. while-loop\n",
    "\n",
    "The python while loop needs a termination statement. As the for-loop, it also has the **else** clause."
   ]
  },
  {
   "cell_type": "code",
   "execution_count": null,
   "metadata": {
    "collapsed": false
   },
   "outputs": [],
   "source": [
    "a = 0\n",
    "sum = 0\n",
    "while a<10:\n",
    "    a += 1\n",
    "    sum += a\n",
    "    print(a,sum)\n",
    "    if sum>100:\n",
    "        break\n",
    "else:\n",
    "    print(\"final sum\",sum)"
   ]
  },
  {
   "cell_type": "markdown",
   "metadata": {
    "collapsed": true
   },
   "source": [
    "Things to try:\n",
    "* sum>10"
   ]
  },
  {
   "cell_type": "markdown",
   "metadata": {
    "collapsed": true
   },
   "source": [
    "## 4. functions\n",
    "\n",
    "Functions are the classic analog of functions in languages like Fortran and C.  python of course is object oriented, and so it has a ```class``` as well, much like C++ and java.\n"
   ]
  },
  {
   "cell_type": "code",
   "execution_count": null,
   "metadata": {
    "collapsed": false
   },
   "outputs": [],
   "source": [
    "def mysqrt(x):\n",
    "    # this is my sqrt function (comment vs. docstring)\n",
    "    import math\n",
    "    if x < 0:\n",
    "        return -math.sqrt(-x)\n",
    "    else:\n",
    "        return math.sqrt(x)\n",
    "    \n",
    "for x2 in [-4.0,0.0,4.0]:\n",
    "    print(mysqrt(x2))\n",
    "    \n",
    "print(x2)"
   ]
  },
  {
   "cell_type": "code",
   "execution_count": null,
   "metadata": {
    "collapsed": false
   },
   "outputs": [],
   "source": [
    "dir(mysqrt)"
   ]
  },
  {
   "cell_type": "code",
   "execution_count": null,
   "metadata": {
    "collapsed": false
   },
   "outputs": [],
   "source": [
    "print(mysqrt.__doc__)"
   ]
  },
  {
   "cell_type": "markdown",
   "metadata": {},
   "source": [
    "Functions can have default arguments:\n"
   ]
  },
  {
   "cell_type": "code",
   "execution_count": null,
   "metadata": {
    "collapsed": false
   },
   "outputs": [],
   "source": [
    "def mysqrt(x,verbose=False,classic=False):\n",
    "    import math\n",
    "    if classic:\n",
    "        if verbose: print(\"classic\",x)\n",
    "        return math.sqrt(x)\n",
    "    if x < 0:\n",
    "        if verbose: print(\"fixing\",x)\n",
    "        return -math.sqrt(-x)\n",
    "    else:\n",
    "        if verbose: print(\"correct\",x)\n",
    "        return math.sqrt(x)\n",
    "\n",
    "print(mysqrt(-4.0))\n",
    "print(mysqrt(-2.0,True))\n",
    "print(mysqrt(-2.0,classic=True))"
   ]
  },
  {
   "cell_type": "code",
   "execution_count": null,
   "metadata": {
    "collapsed": false
   },
   "outputs": [],
   "source": [
    "try:\n",
    "    print(mysqrt(-2.0,classic=True))\n",
    "except:\n",
    "    print(\"some error, deal with it\")"
   ]
  },
  {
   "cell_type": "markdown",
   "metadata": {},
   "source": [
    "Scope of variables:  as in other languages, objects inside a function are not visible outside and vice versa, but again, perhaps with a tiny twist"
   ]
  },
  {
   "cell_type": "code",
   "execution_count": null,
   "metadata": {
    "collapsed": false
   },
   "outputs": [],
   "source": [
    "a1 = 1.0\n",
    "def testa(x):\n",
    "    global a1\n",
    "    print(a1+x)\n",
    "    a1 = a1 + x\n",
    "    # y = a1 - x\n",
    "testa(2.0)\n",
    "testa(2.0)\n",
    "# print(y)"
   ]
  },
  {
   "cell_type": "code",
   "execution_count": null,
   "metadata": {
    "collapsed": false
   },
   "outputs": [],
   "source": [
    "import math\n",
    "print(math.pi)\n",
    "\n",
    "def mypi(x):\n",
    "    # this will overwrite \\pi !!!\n",
    "    math.pi = x\n",
    "    return {x,x}\n",
    "a=mypi(3)\n",
    "print(math.pi)\n",
    "print(x2)\n",
    "print('a',a)\n",
    "#print(\"a=%g\"  % a)\n",
    "print(type(a))\n",
    "print(type(mypi))"
   ]
  },
  {
   "cell_type": "markdown",
   "metadata": {
    "collapsed": true
   },
   "source": [
    "## 5. classes\n",
    "\n",
    "Under the hood everything in python is an object, a class. But you can define your own classes."
   ]
  },
  {
   "cell_type": "code",
   "execution_count": null,
   "metadata": {
    "collapsed": true
   },
   "outputs": [],
   "source": []
  }
 ],
 "metadata": {
  "anaconda-cloud": {},
  "kernelspec": {
   "display_name": "Python [default]",
   "language": "python",
   "name": "python3"
  },
  "language_info": {
   "codemirror_mode": {
    "name": "ipython",
    "version": 3
   },
   "file_extension": ".py",
   "mimetype": "text/x-python",
   "name": "python",
   "nbconvert_exporter": "python",
   "pygments_lexer": "ipython3",
   "version": "3.5.2"
  }
 },
 "nbformat": 4,
 "nbformat_minor": 1
}
