{
 "cells": [
  {
   "cell_type": "markdown",
   "metadata": {},
   "source": [
    "## Running from the commandline vs. jupyter\n",
    "\n",
    "Instead of running a piece of code from jupyter, we can also run it as a pure python script from the command line. This notebook is normally saved with an extension **ipynb**.\n",
    "\n",
    "Simple exercise:  print the value of $\\pi$\n",
    "\n",
    "Hint-1: The **import math** is needed to import a math library, where you can find **pi**.\n",
    "\n",
    "Hint-2: Typing **math.** followed by a TAB will bring up a listbox from which members of **math** can be selected. The TAB key is often used to trigger an attempt to auto-complete (both **bash** and **tcsh** shell have this behavior too)\n",
    "\n"
   ]
  },
  {
   "cell_type": "code",
   "execution_count": null,
   "metadata": {
    "collapsed": false
   },
   "outputs": [],
   "source": [
    "import math"
   ]
  },
  {
   "cell_type": "code",
   "execution_count": null,
   "metadata": {
    "collapsed": false
   },
   "outputs": [],
   "source": [
    "# do your typing below here, so the value of pi is printed\n",
    "\n"
   ]
  },
  {
   "cell_type": "markdown",
   "metadata": {},
   "source": [
    "## Saving as python (or something else)\n",
    "\n",
    "Now save this notebook as a pure python (.py) file and execute this from the shell. \n",
    "\n",
    "Hint: Check the **File -> Download as** pulldown."
   ]
  }
 ],
 "metadata": {
  "anaconda-cloud": {},
  "kernelspec": {
   "display_name": "Python [default]",
   "language": "python",
   "name": "python3"
  },
  "language_info": {
   "codemirror_mode": {
    "name": "ipython",
    "version": 3
   },
   "file_extension": ".py",
   "mimetype": "text/x-python",
   "name": "python",
   "nbconvert_exporter": "python",
   "pygments_lexer": "ipython3",
   "version": "3.5.2"
  }
 },
 "nbformat": 4,
 "nbformat_minor": 1
}
